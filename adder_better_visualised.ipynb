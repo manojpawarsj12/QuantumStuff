{
 "cells": [
  {
   "cell_type": "code",
   "execution_count": 1,
   "metadata": {},
   "outputs": [],
   "source": [
    "from qiskit import *\n",
    "%matplotlib inline"
   ]
  },
  {
   "cell_type": "code",
   "execution_count": null,
   "metadata": {},
   "outputs": [],
   "source": [
    "first=str(input(\"enter first number in binary format \"))\n",
    "second=str(input(\"enter second number in binary fromat \"))"
   ]
  },
  {
   "cell_type": "code",
   "execution_count": null,
   "metadata": {},
   "outputs": [],
   "source": [
    "l=len(first)\n",
    "l2=len(second)\n",
    "if len(first)>len(second):\n",
    "    n=len(first)\n",
    "else:\n",
    "    n=len(second)"
   ]
  },
  {
   "cell_type": "code",
   "execution_count": null,
   "metadata": {},
   "outputs": [],
   "source": [
    "a=QuantumRegister(n)\n",
    "b=QuantumRegister(n+1)\n",
    "c=QuantumRegister(n)\n",
    "c1=ClassicalRegister(n+1)\n",
    "circuit=QuantumCircuit(a,b,c,c1)"
   ]
  },
  {
   "cell_type": "code",
   "execution_count": null,
   "metadata": {},
   "outputs": [],
   "source": [
    "for i in range(l):\n",
    "    if first[i] == \"1\":\n",
    "        circuit.x(a[l - (i+1)])\n",
    "for i in range(l2):\n",
    "    if second[i] == \"1\":\n",
    "        circuit.x(b[l2 - (i+1)])"
   ]
  },
  {
   "cell_type": "code",
   "execution_count": null,
   "metadata": {},
   "outputs": [],
   "source": [
    "for i in range(n-1):\n",
    "    circuit.ccx(a[i], b[i], c[i+1])\n",
    "    circuit.cx(a[i], b[i])\n",
    "    circuit.ccx(c[i], b[i], c[i+1])"
   ]
  },
  {
   "cell_type": "code",
   "execution_count": null,
   "metadata": {},
   "outputs": [],
   "source": [
    "circuit.ccx(a[n-1], b[n-1], b[n])\n",
    "circuit.cx(a[n-1], b[n-1])\n",
    "circuit.ccx(c[n-1], b[n-1], b[n])"
   ]
  },
  {
   "cell_type": "code",
   "execution_count": null,
   "metadata": {},
   "outputs": [],
   "source": [
    "circuit.cx(c[n-1], b[n-1])"
   ]
  },
  {
   "cell_type": "code",
   "execution_count": null,
   "metadata": {},
   "outputs": [],
   "source": [
    "for i in range(n-1):\n",
    "    circuit.ccx(c[(n-2)-i], b[(n-2)-i], c[(n-1)-i])\n",
    "    circuit.cx(a[(n-2)-i], b[(n-2)-i])\n",
    "    circuit.ccx(a[(n-2)-i], b[(n-2)-i], c[(n-1)-i])\n",
    "    circuit.cx(c[(n-2)-i], b[(n-2)-i])\n",
    "    circuit.cx(a[(n-2)-i], b[(n-2)-i])"
   ]
  },
  {
   "cell_type": "code",
   "execution_count": null,
   "metadata": {},
   "outputs": [],
   "source": [
    "for i in range(n+1):\n",
    "    circuit.measure(b[i], c1[i])"
   ]
  },
  {
   "cell_type": "code",
   "execution_count": null,
   "metadata": {},
   "outputs": [],
   "source": [
    "simulator = Aer.get_backend(\"qasm_simulator\")\n",
    "result = execute(circuit, backend=simulator, shots=1).result()"
   ]
  },
  {
   "cell_type": "code",
   "execution_count": null,
   "metadata": {},
   "outputs": [],
   "source": [
    "print(f'{first}+{second}={int(list(result.get_counts().keys())[0], 2)}')"
   ]
  },
  {
   "cell_type": "code",
   "execution_count": null,
   "metadata": {},
   "outputs": [],
   "source": [
    "circuit.draw(output=\"mpl\")"
   ]
  },
  {
   "cell_type": "code",
   "execution_count": null,
   "metadata": {},
   "outputs": [],
   "source": []
  }
 ],
 "metadata": {
  "kernelspec": {
   "display_name": "Python 3",
   "language": "python",
   "name": "python3"
  },
  "language_info": {
   "codemirror_mode": {
    "name": "ipython",
    "version": 3
   },
   "file_extension": ".py",
   "mimetype": "text/x-python",
   "name": "python",
   "nbconvert_exporter": "python",
   "pygments_lexer": "ipython3",
   "version": "3.7.5"
  }
 },
 "nbformat": 4,
 "nbformat_minor": 2
}
